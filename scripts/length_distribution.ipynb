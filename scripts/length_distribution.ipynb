{
 "cells": [
  {
   "cell_type": "code",
   "execution_count": 1,
   "metadata": {},
   "outputs": [],
   "source": [
    "import Bio\n",
    "from Bio import Entrez\n",
    "Entrez.email = 'kathe102@hhu.de'\n",
    "import pandas as pd\n",
    "import seaborn as sns\n",
    "import matplotlib.pyplot as plt"
   ]
  },
  {
   "cell_type": "code",
   "execution_count": 2,
   "metadata": {},
   "outputs": [],
   "source": [
    "df = pd.read_csv('Completedata.csv')"
   ]
  },
  {
   "cell_type": "code",
   "execution_count": 3,
   "metadata": {},
   "outputs": [],
   "source": [
    "'''\n",
    "WP_Nums: \n",
    "XcsA: WP_011242471\n",
    "BcsA1: WP_011378340\n",
    "BcsA2: WP_011243364\n",
    "\n",
    "'''\n",
    "dfXcsA = df[df[\"qseqid\"] =='WP_011242471']\n",
    "dfBcsA1 = df[df['qseqid']== 'WP_011378340']\n",
    "dfBcsA2 = df[df['qseqid']== 'WP_011243364']"
   ]
  },
  {
   "cell_type": "code",
   "execution_count": 4,
   "metadata": {},
   "outputs": [],
   "source": [
    "def get_infos (dataframe):\n",
    "    result_record=[]\n",
    "    query_sequences=list(dataframe['sacc'].unique())\n",
    "    end = len(query_sequences)\n",
    "    begin = 0\n",
    "    step = 500\n",
    "    steps = 500\n",
    "    while begin < end:\n",
    "        if step >= end:\n",
    "            step = end\n",
    "        print(\"\\t {} to {}\".format(begin,step))\n",
    "        splitted_ids = query_sequences[begin:step]\n",
    "        for attempt in range(10):\n",
    "            try:\n",
    "                handle = Entrez.efetch(id=splitted_ids, db=\"protein\", retmode=\"xml\")\n",
    "                record = Entrez.read(handle)\n",
    "                handle.close()\n",
    "            except Exception as e:\n",
    "                print(\"attempt : {} queries : {}\".format(attempt,query))\n",
    "                if attempt == 9:\n",
    "                    raise Exception\n",
    "            else:\n",
    "                for rec in record:\n",
    "                    result_record.append(rec)\n",
    "                print(\"result record length : {}\".format(len(result_record)))\n",
    "                break\n",
    "        begin += steps\n",
    "        step += steps\n",
    "    \n",
    "    return(result_record)"
   ]
  },
  {
   "cell_type": "code",
   "execution_count": 5,
   "metadata": {},
   "outputs": [],
   "source": [
    "def get_lenghtdict (result_list):\n",
    "    lengths = {}\n",
    "    for i in range(len(result_list)):\n",
    "        lengths[result_list[i]['GBSeq_locus']] = int(result_list[i]['GBSeq_length'])\n",
    "    print('Number of entries:',len(lengths))\n",
    "    return(lengths)"
   ]
  },
  {
   "cell_type": "code",
   "execution_count": 6,
   "metadata": {},
   "outputs": [
    {
     "name": "stdout",
     "output_type": "stream",
     "text": [
      "\t 0 to 285\n",
      "result record length : 285\n",
      "Number of entries: 285\n",
      "\t 0 to 500\n",
      "result record length : 500\n",
      "\t 500 to 1000\n",
      "result record length : 1000\n",
      "\t 1000 to 1500\n",
      "result record length : 1500\n",
      "\t 1500 to 2000\n",
      "result record length : 2000\n",
      "\t 2000 to 2500\n",
      "result record length : 2500\n",
      "\t 2500 to 3000\n",
      "result record length : 3000\n",
      "\t 3000 to 3327\n",
      "result record length : 3327\n",
      "Number of entries: 3327\n",
      "\t 0 to 404\n",
      "result record length : 404\n",
      "Number of entries: 404\n"
     ]
    }
   ],
   "source": [
    "XcsAinf = get_infos(dfXcsA)\n",
    "lengthsXcsA = get_lenghtdict(XcsAinf)\n",
    "BcsA1inf = get_infos(dfBcsA1)\n",
    "lengthsBcsA1 = get_lenghtdict(BcsA1inf)\n",
    "BcsA2inf = get_infos(dfBcsA2)\n",
    "lengthsBcsA2 = get_lenghtdict(BcsA2inf)"
   ]
  },
  {
   "cell_type": "code",
   "execution_count": 7,
   "metadata": {},
   "outputs": [],
   "source": [
    "lenprotXcsA =  list(lengthsXcsA.values())\n",
    "lenprotBcsA1 =  list(lengthsBcsA1.values())\n",
    "lenprotBcsA2 =  list(lengthsBcsA2.values())"
   ]
  },
  {
   "cell_type": "code",
   "execution_count": 8,
   "metadata": {},
   "outputs": [
    {
     "data": {
      "image/png": "[encoded data removed]",
      "text/plain": [
       "<Figure size 432x288 with 1 Axes>"
      ]
     },
     "metadata": {
      "needs_background": "light"
     },
     "output_type": "display_data"
    }
   ],
   "source": [
    "graph = sns.kdeplot(lenprotXcsA, color=\"crimson\", label=\"XcsA\", shade= False)\n",
    "graph = sns.kdeplot(lenprotBcsA1, color=\"darkblue\", label=\"BcsA1\", shade= False)\n",
    "graph = sns.kdeplot(lenprotBcsA2, color=\"green\", label=\"BcsA2\", shade= False)\n",
    "graph.axvline(lengthsBcsA1['WP_011378340'], color='darkblue')\n",
    "graph.axvline(lengthsXcsA['WP_011242471'], color ='crimson')\n",
    "graph.axvline(lengthsBcsA2['WP_011243364'], color='green')\n",
    "#plt.legend().set_visible(False)\n",
    "plt.xlabel('Protein length [AA]')\n",
    "plt.ylabel('Frequency')\n",
    "plt.savefig('length_A.pdf')\n",
    "plt.show()\n"
   ]
  },
  {
   "cell_type": "code",
   "execution_count": 7,
   "metadata": {},
   "outputs": [],
   "source": [
    "## why is the frequency for all proteins the highest at ~ 900 aa? \n",
    "\n",
    "XcsA =list(dfXcsA.sacc)\n",
    "BcsA1 = list(dfBcsA1.sacc)\n",
    "BcsA2 = list(dfBcsA2.sacc)"
   ]
  },
  {
   "cell_type": "code",
   "execution_count": 12,
   "metadata": {},
   "outputs": [
    {
     "data": {
      "text/plain": [
       "set()"
      ]
     },
     "execution_count": 12,
     "metadata": {},
     "output_type": "execute_result"
    }
   ],
   "source": [
    "set(BcsA1) & set(BcsA2)"
   ]
  },
  {
   "cell_type": "code",
   "execution_count": null,
   "metadata": {},
   "outputs": [],
   "source": []
  }
 ],
 "metadata": {
  "kernelspec": {
   "display_name": "Python 3",
   "language": "python",
   "name": "python3"
  },
  "language_info": {
   "codemirror_mode": {
    "name": "ipython",
    "version": 3
   },
   "file_extension": ".py",
   "mimetype": "text/x-python",
   "name": "python",
   "nbconvert_exporter": "python",
   "pygments_lexer": "ipython3",
   "version": "3.7.3"
  }
 },
 "nbformat": 4,
 "nbformat_minor": 4
}
